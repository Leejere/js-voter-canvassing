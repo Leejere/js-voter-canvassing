{
 "cells": [
  {
   "cell_type": "code",
   "execution_count": 7,
   "metadata": {},
   "outputs": [],
   "source": [
    "import numpy as np\n",
    "import pandas as pd\n",
    "df = pd.read_csv(\"../site/data/voters_lists/0101test.csv\")"
   ]
  },
  {
   "cell_type": "code",
   "execution_count": 10,
   "metadata": {},
   "outputs": [
    {
     "data": {
      "text/plain": [
       "0      -75.16145216099994,39.92993551500007\n",
       "1      -75.16149719599997,39.93145038500006\n",
       "2      -75.16143961899996,39.92998664800007\n",
       "3      -75.15865174799995,39.93162562100008\n",
       "4      -75.16168658199996,39.93004896100007\n",
       "                       ...                 \n",
       "521    -75.16234616099996,39.92970272300005\n",
       "522    -75.15959113499997,39.93104925500006\n",
       "523    -75.15932014999999,39.93228303300003\n",
       "524    -75.15947777399998,39.93155817300004\n",
       "525    -75.15947777399998,39.93155817300004\n",
       "Name: TIGER/Line Lng/Lat, Length: 526, dtype: object"
      ]
     },
     "execution_count": 10,
     "metadata": {},
     "output_type": "execute_result"
    }
   ],
   "source": [
    "df[\"TIGER/Line Lng/Lat\"]"
   ]
  }
 ],
 "metadata": {
  "kernelspec": {
   "display_name": "Python 3.9.13 ('musa-550-fall-2022')",
   "language": "python",
   "name": "python3"
  },
  "language_info": {
   "codemirror_mode": {
    "name": "ipython",
    "version": 3
   },
   "file_extension": ".py",
   "mimetype": "text/x-python",
   "name": "python",
   "nbconvert_exporter": "python",
   "pygments_lexer": "ipython3",
   "version": "3.9.13"
  },
  "orig_nbformat": 4,
  "vscode": {
   "interpreter": {
    "hash": "82331f546391311e04de82455d6ddfe42af9f79fe3961e72f749472e4fc4cc58"
   }
  }
 },
 "nbformat": 4,
 "nbformat_minor": 2
}
